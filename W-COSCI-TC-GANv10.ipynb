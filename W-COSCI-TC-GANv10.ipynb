version https://git-lfs.github.com/spec/v1
oid sha256:4cadfd0a366f474364fb5e5af834cd7bc787ec8e9f550ab1af0996c5c16c0178
size 178010132
